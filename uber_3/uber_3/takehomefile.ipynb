{
  "cells": [
    {
      "cell_type": "markdown",
      "id": "bded41b6",
      "metadata": {
        "id": "bded41b6"
      },
      "source": [
        "![logo.png](https://github.com/interviewquery/takehomes/blob/origin/uber_3/uber_3/logo.png?raw=1)\n",
        "\n",
        "\n",
        "## Part 1 - SQL Syntax\n",
        "\n",
        "Given the below subset of Uber's schema, write executable SQL queries to answer the questions below. Please answer in a single query for each question and assume read-only access to the database (i.e. do not use CREATE TABLE).\n",
        "\n",
        "1. For each of the cities 'Qarth' and 'Meereen', calculate 90 th percentile difference between Actual and Predicted ETA for all completed trips within the last 30 days.\n",
        "\n",
        "2. A signup is defined as an event labeled `sign_up_success` within the `events` table. For each city ('Qarth' and 'Meereen') and each day of the week, determine the percentage of signups in the first week of 2016 that resulted in completed a trip within 168 hours of the sign up date.\n",
        "\n",
        "**Assume a PostgreSQL database, server timezone is UTC.**\n",
        "\n",
        "\n",
        "Table Name: **`trips`**\n",
        "\n",
        "|Column Name:|Datatype:|\n",
        "| :-: | :-: |\n",
        "|`id`|`integer`|\n",
        "|`client_id`|`integer` (Foreign keyed to `events.rider_id`)|\n",
        "|`driver_id`|`integer`|\n",
        "|`city_id`|`integer` (Foreign keyed to `cities.city_id`)|\n",
        "|`client_rating`|`integer`|\n",
        "|`driver_rating`|`integer`|\n",
        "|`request_at`|`Timestamp with timezone`|\n",
        "|`predicted_eta`|`integer`|\n",
        "|`actual_eta`|`integer`|\n",
        "|`status`|`Enum`(‘`completed`’, ‘`cancelled_by_driver`’, ‘`cancelled_by_client`’)|\n",
        "\n",
        "\n",
        "Table Name: **`cities`**\n",
        "\n",
        "|Column Name:|Datatype:|\n",
        "| :-: | :-: |\n",
        "|`city_id`|`integer`|\n",
        "|`city_name`|`string`|\n",
        "\n",
        "\n",
        "\n",
        "Table Name: **`events`**\n",
        "\n",
        "|Column Name:|Datatype:|\n",
        "| :-: | :-: |\n",
        "|`device_id`|`integer`|\n",
        "|`rider_id`|`integer`|\n",
        "|`city_id`|`integer`|\n",
        "|`event_name`|`Enum`(‘`sign_up_success`’, ‘`attempted_sign_up`’, ‘`sign_up_failure`’)|\n",
        "\n",
        "\n",
        "\n",
        "## Part 2 - Experiment and metrics design\n",
        "\n",
        "\n",
        "The Driver Experience team has just finished [redesigning the Uber Partner app](https://newsroom.uber.com/new-partner-app/). The new version expands the purpose of the app beyond just driving. It includes additional information on earnings, ratings, and provides a unified platform for Uber to communicate with its partners.\n",
        "\n",
        "1. Propose and define the primary success metric of the redesigned app. What are 2-3 additional tracking metrics that will be important to monitor in addition to the success metric defined above?\n",
        "\n",
        "2. Outline a testing plan to evaluate if redesigned app performs better (according to the metrics you outlined). How would you balance the need to deliver quick results, with statistical rigor, and while still monitoring for risks?\n",
        "\n",
        "3. Explain how you would translate the results from the testing plan into a decision on whether to launch the new design or roll it back.\n",
        "\n",
        "## Part 3 - Data analysis\n",
        "\n",
        "Uber's Driver team is interested in predicting which driver signups are most likely to start driving. To help explore this question, we have provided a sample  dataset of a cohort of driver signups in January 2015.The data was pulled a few months after they signed up to include the result of whether they actually completed their first trip. It also includes several pieces of background information gather about the driver and their car.\n",
        "\n",
        "We would like you to use this data set to help understand what factors are best at predicting whether a signup will start to drive, and offer suggestions to operationalize those insights to help Uber.\n",
        "\n",
        "See below for a detailed description of the dataset. Please include any code you wrote for the analysis and delete the dataset when you have finished with the challenge. Please also call out any data related assumptions or issues that you encounter.\n",
        "\n",
        "1. Perform any cleaning, exploratory analysis, and/or visualizations to use the provided data for this analysis (a few sentences/plots describing your approach will suffice). What fraction of the driver signups took a first trip?\n",
        "\n",
        "2. Build a predictive model to help Uber determine whether or not a driver signup will start driving. Discuss why you chose your approach, what alternatives you considered, and any concerns you have. How valid is your model? Include any key indicators of model performance.\n",
        "\n",
        "3. Briefly discuss how Uber might leverage the insights gained from the model to generate more first trips (again, a few ideas/sentences will suffice).\n",
        "\n",
        "\n",
        "\n",
        "### Data description\n",
        "\n",
        "**id**: driver_id\n",
        "\n",
        "**city_id**: city_id this user signed up in\n",
        "\n",
        "**signup_os**: signup device of the user (\"android\", \"ios\", \"website\", \"other\")\n",
        "\n",
        "**signup_channel**: what channel did the driver sign up from (\"offline\", \"paid\", \"organic\", \"referral\")\n",
        "\n",
        "**signup_timestamp**: timestamp of account creation; local time in the form 'YYYY/MM/DD'\n",
        "\n",
        "**bgc_date**: date of background check consent; in the form 'YYYY/MM/DD'\n",
        "\n",
        "**vehicle_added_date**: date when driver's vehicle information was uploaded; in the form 'YYYY/MM/DD'\n",
        "\n",
        "**first_trip_date**: date of the first trip as a driver; in the form 'YYYY/MM/DD'\n",
        "\n",
        "**vehicle_make**: make of vehicle uploaded (i.e. Honda, Ford, Kia)\n",
        "\n",
        "**vehicle_model**: model of vehicle uploaded (i.e. Accord, Prius, 350z)\n",
        "\n",
        "**vehicle year**: year that the car was made; in the form 'YYYY'\n",
        "\n",
        "\n",
        "\n",
        "\n",
        "Please note that this data is fake and does not represent actual driver signup behavior\n",
        "\n"
      ]
    },
    {
      "cell_type": "code",
      "execution_count": 1,
      "id": "5c956dc4",
      "metadata": {
        "id": "5c956dc4",
        "outputId": "b20f2071-13e5-4f11-f7d1-c9156def2faa",
        "colab": {
          "base_uri": "https://localhost:8080/"
        }
      },
      "outputs": [
        {
          "output_type": "stream",
          "name": "stdout",
          "text": [
            "Cloning into 'takehomes'...\n",
            "remote: Enumerating objects: 1963, done.\u001b[K\n",
            "remote: Counting objects: 100% (1963/1963), done.\u001b[K\n",
            "remote: Compressing objects: 100% (1220/1220), done.\u001b[K\n",
            "remote: Total 1963 (delta 752), reused 1927 (delta 726), pack-reused 0 (from 0)\u001b[K\n",
            "Receiving objects: 100% (1963/1963), 297.43 MiB | 11.82 MiB/s, done.\n",
            "Resolving deltas: 100% (752/752), done.\n",
            "/content/takehomes/uber_3\n",
            "ls: cannot access '*.zip': No such file or directory\n",
            "ds_challenge_v2_1_data.csv  logo.png  takehomefile.ipynb\n"
          ]
        }
      ],
      "source": [
        "!git clone --branch origin/uber_3 https://github.com/interviewquery/takehomes.git\n",
        "%cd takehomes/uber_3\n",
        "!if [[ $(ls *.zip) ]]; then unzip *.zip; fi\n",
        "!ls"
      ]
    },
    {
      "cell_type": "markdown",
      "source": [
        "# Solutions"
      ],
      "metadata": {
        "id": "mupb7JigEvH1"
      },
      "id": "mupb7JigEvH1"
    },
    {
      "cell_type": "markdown",
      "source": [
        "## Part 1  - SQL Syntax"
      ],
      "metadata": {
        "id": "Yspni8zZE-wi"
      },
      "id": "Yspni8zZE-wi"
    },
    {
      "cell_type": "code",
      "execution_count": null,
      "id": "53d25f14",
      "metadata": {
        "colab": {
          "base_uri": "https://localhost:8080/",
          "height": 128
        },
        "id": "53d25f14",
        "outputId": "2f1e10e0-dc8c-4404-be88-bad1f1d5fc42"
      },
      "outputs": [
        {
          "output_type": "error",
          "ename": "SyntaxError",
          "evalue": "invalid syntax (<ipython-input-8-fe03050a5966>, line 2)",
          "traceback": [
            "\u001b[0;36m  File \u001b[0;32m\"<ipython-input-8-fe03050a5966>\"\u001b[0;36m, line \u001b[0;32m2\u001b[0m\n\u001b[0;31m    select *\u001b[0m\n\u001b[0m            ^\u001b[0m\n\u001b[0;31mSyntaxError\u001b[0m\u001b[0;31m:\u001b[0m invalid syntax\n"
          ]
        }
      ],
      "source": [
        "%%sql\n",
        "--1.\n",
        "\n",
        "select\n",
        "  c.city_name,\n",
        "  percentile_disc(0.90) within group (\n",
        "    order by t.actual_eta-t.predicted_eta\n",
        "  ) 90th_percentile\n",
        "from trips t\n",
        "inner join cities c ON t.city_id = c.city_id\n",
        "where ifnull(c.city_name, 'null') in ('Qarth', 'Meereen')\n",
        "and t.status = 'completed'\n",
        "and t.request_at >= now() - interval '30 days'\n",
        "group by c.city_name\n",
        ";"
      ]
    },
    {
      "cell_type": "code",
      "source": [
        "%%sql\n",
        "--2. Im going to assume first week of 2016 refers to Jan 1-7th of 2016 and that\n",
        "--eta is in minutes\n",
        "--There does not seem to be a way to distinguish between a sign-up date and a request_at date?\n",
        "\n",
        "select c.city_name, n_completed_trips/n_requests*100 signups_with_completed_trips\n",
        "from\n",
        "(select c.city_name, count(id) n_completed_trips\n",
        "from trips t\n",
        "inner join events e ON t.client_id = e.rider_id\n",
        "inner join cities c ON c.city_id = e.city_id\n",
        "where e.event_name = 'sign_up_success'\n",
        "and ifnull(c.city_name, 'null') in ('Qarth', 'Meereen')\n",
        "and t.status = 'completed'\n",
        "and t.request_at >= '2016-01-01'\n",
        "and t.request_at < '2016-01-08'\n",
        "and t.actual_eta < 168 * 60\n",
        "group by c.city_name) sub1\n",
        "inner join\n",
        "(select c.city_name, count(id) n_requests\n",
        "from trips t\n",
        "inner join events e ON t.client_id = e.rider_id\n",
        "inner join cities c ON c.city_id = e.city_id\n",
        "where e.event_name = 'sign_up_success'\n",
        "and ifnull(c.city_name, 'null') in ('Qarth', 'Meereen')\n",
        "and t.request_at >= '2016-01-01'\n",
        "and t.request_at < '2016-01-08'\n",
        "group by c.city_name) sub2 ON sub1.city_name = sub2.city_name\n",
        ";"
      ],
      "metadata": {
        "id": "Vk3Qr5rmHks_"
      },
      "id": "Vk3Qr5rmHks_",
      "execution_count": null,
      "outputs": []
    },
    {
      "cell_type": "markdown",
      "source": [
        "## Part 2 -- Experiments and metrics design"
      ],
      "metadata": {
        "id": "fvfxO5sJaIK2"
      },
      "id": "fvfxO5sJaIK2"
    },
    {
      "cell_type": "markdown",
      "source": [
        "What changes have been made?\n",
        "\n",
        "\n",
        "\n",
        "Original App\n",
        "\n",
        "    Facilitates the driving process\n",
        "\n",
        "New App\n",
        "\n",
        "    Offers comprehensive information on earnings\n",
        "\n",
        "    Offers comprehensive information on driver ratings\n",
        "\n",
        "    Unified platform for drivers to communicate with Uber\n",
        "\n",
        "\n",
        "\n",
        "I would expect this to give drivers a better understanding of how their income is calculated, why some rides/deliveries get them more money than others, what factors they could focus on to optimize their earnings.\n",
        "\n",
        "\n",
        "\n",
        "I would expect the rating information to help drivers understand better where they might be losing ratings on, what they do well and don't do well when it comes to helping customers.\n",
        "\n",
        "\n",
        "\n",
        "Easier for drivers to communicate with Uber if any issues in an order, with a passenger, law enforcement, whatever comes up.\n",
        "\n",
        "\n",
        "\n",
        "How would I expect these changes to impact driver behavior?\n",
        "\n",
        "\n",
        "\n",
        "-if the uber partners app gives clearer insight to drivers than competitors apps, then they might prefer using Uber\n",
        "\n",
        "-increase in driver engagement in higher paid areas (surge pricing, times of higher customer demand)\n",
        "\n",
        "-an increase in drivers behaving in a way to get around loopholes (e.g. calling customers at the airport to determine how long the ride would be)\n",
        "\n",
        "-decrease in driver engagement in less profitable areas\n",
        "\n",
        "-improvement in driver ratings, especially with beginner drivers\n",
        "\n",
        "-increased beginning driver retention\n",
        "\n",
        "-increased messages to Uber from drivers or perhaps decreased messages if the other features improve clarity\n",
        "\n",
        "\n",
        "\n",
        "What metrics would be impacted?\n",
        "\n",
        "\n",
        "\n",
        "-app rating after the changes\n",
        "\n",
        "-app review sentiment\n",
        "\n",
        "-app downloads\n",
        "\n",
        "-app uninstalls\n",
        "\n",
        "-app ranking in category\n",
        "\n",
        "-smaller gap between driver supply and customer demand?\n",
        "\n",
        "-more logins per week\n",
        "\n",
        "-lower churn, increase in new accounts and better retention of those new accounts\n",
        "\n",
        "-earnings of new drivers gone up\n",
        "\n",
        "\n",
        "\n",
        "I would expect the app redesign to have the biggest impact on new drivers. Longtime drivers are more familiar with the app and more settled in their routines. I would expect app review sentiment to improve, but many people don't take the time to review apps.  \n",
        "\n",
        "\n",
        "\n",
        "Metric: Reduced new driver churn- a higher percentage of a \"cohort\" of new drivers (e.g. drivers that joined in January) are still driving 6 months later.\n",
        "\n",
        "-I would expect the changes to improve the experience\n",
        "\n",
        "-I would expect the changes to have the highest impact on new drivers\n",
        "\n",
        "-Can involve all new drivers, all new drivers will have some level of engagement (even if that level is 0) but not all will write reviews\n",
        "\n",
        "-more directly related to app value (satisying customers, engagement with product) than something like a review\n",
        "\n",
        "\n",
        "\n",
        "If my hypothesis is right that the app changes are responsible for less churn, what other behavior would I expect to see?\n",
        "\n",
        "\n",
        "\n",
        "-higher ratings of the Partners App by new drivers (this might be better than review sentiment since people are more likely to give reviews to complain)\n",
        "\n",
        "-higher ratings of new drivers by customers\n",
        "\n",
        "\n",
        "\n",
        "What if I see less churn but it is not due to the app changes?\n",
        "\n",
        "-be aware of what else is going on in the environment. Did a competitor get banned in a service area or something else happen in the news (an app got \"cancelled\" so more customers are using Uber and more drivers have to switch to get the customers)\n",
        "\n",
        "-maybe an unrelated software bug was fixed?\n",
        "\n",
        "-a promo for new drivers was going on?\n",
        "\n",
        "\n",
        "\n",
        "Additional secondary metrics:\n",
        "\n",
        "-app ratings by driver experience\n",
        "\n",
        "-app review sentiment by driver experience\n",
        "\n",
        "\n",
        "\n",
        "Conduct an A/B test with randomized cohorts of partners in a test group and a control group. Make sure both groups are relatively representative of the cross-section of drivers where the change is applied. Also perhaps compare with historical data on driver churn.  \n",
        "\n",
        "\n",
        "\n",
        "Real-time monitoring of review sentiments and ratings\n",
        "\n",
        "\n",
        "\n",
        "Final decision.\n",
        "\n",
        "-Can we trace out a potential logic chain?\n",
        "\n",
        "-Are there any results that surprised us or are unexpected?\n",
        "\n",
        "-Is there different behavior for different user cohorts?"
      ],
      "metadata": {
        "id": "aImbLy9PaclJ"
      },
      "id": "aImbLy9PaclJ"
    },
    {
      "cell_type": "markdown",
      "source": [],
      "metadata": {
        "id": "J_53gW_5azlt"
      },
      "id": "J_53gW_5azlt"
    },
    {
      "cell_type": "markdown",
      "source": [
        "## Part 3 -- Data Analysis"
      ],
      "metadata": {
        "id": "WvR55WWKa4Rb"
      },
      "id": "WvR55WWKa4Rb"
    },
    {
      "cell_type": "code",
      "source": [
        "import pandas as pd\n",
        "import matplotlib.pyplot as plt"
      ],
      "metadata": {
        "id": "D7qc9HcNa-oC"
      },
      "id": "D7qc9HcNa-oC",
      "execution_count": 5,
      "outputs": []
    },
    {
      "cell_type": "code",
      "source": [
        "df = pd.read_csv('ds_challenge_v2_1_data.csv')\n",
        "df.head()"
      ],
      "metadata": {
        "id": "C2DpY5fdNjEo",
        "outputId": "f7e8463d-e20d-4f56-eab3-de7d5ec1d01d",
        "colab": {
          "base_uri": "https://localhost:8080/",
          "height": 367
        }
      },
      "id": "C2DpY5fdNjEo",
      "execution_count": 6,
      "outputs": [
        {
          "output_type": "stream",
          "name": "stderr",
          "text": [
            "/usr/local/lib/python3.11/dist-packages/google/colab/_dataframe_summarizer.py:88: UserWarning: Could not infer format, so each element will be parsed individually, falling back to `dateutil`. To ensure parsing is consistent and as-expected, please specify a format.\n",
            "  cast_date_col = pd.to_datetime(column, errors=\"coerce\")\n",
            "/usr/local/lib/python3.11/dist-packages/google/colab/_dataframe_summarizer.py:88: UserWarning: Could not infer format, so each element will be parsed individually, falling back to `dateutil`. To ensure parsing is consistent and as-expected, please specify a format.\n",
            "  cast_date_col = pd.to_datetime(column, errors=\"coerce\")\n",
            "/usr/local/lib/python3.11/dist-packages/google/colab/_dataframe_summarizer.py:88: UserWarning: Could not infer format, so each element will be parsed individually, falling back to `dateutil`. To ensure parsing is consistent and as-expected, please specify a format.\n",
            "  cast_date_col = pd.to_datetime(column, errors=\"coerce\")\n"
          ]
        },
        {
          "output_type": "execute_result",
          "data": {
            "text/plain": [
              "   id city_name    signup_os signup_channel signup_date bgc_date  \\\n",
              "0   1    Strark      ios web           Paid      1/2/16      NaN   \n",
              "1   2    Strark      windows           Paid     1/21/16      NaN   \n",
              "2   3   Wrouver      windows        Organic     1/11/16  1/11/16   \n",
              "3   4    Berton  android web       Referral     1/29/16   2/3/16   \n",
              "4   5    Strark  android web       Referral     1/10/16  1/25/16   \n",
              "\n",
              "  vehicle_added_date vehicle_make vehicle_model  vehicle_year  \\\n",
              "0                NaN          NaN           NaN           NaN   \n",
              "1                NaN          NaN           NaN           NaN   \n",
              "2                NaN          NaN           NaN           NaN   \n",
              "3             2/3/16       Toyota       Corolla        2016.0   \n",
              "4            1/26/16      Hyundai        Sonata        2016.0   \n",
              "\n",
              "  first_completed_date  \n",
              "0                  NaN  \n",
              "1                  NaN  \n",
              "2                  NaN  \n",
              "3               2/3/16  \n",
              "4                  NaN  "
            ],
            "text/html": [
              "\n",
              "  <div id=\"df-00c16b67-1c6b-4acb-a30e-cde48c1f4902\" class=\"colab-df-container\">\n",
              "    <div>\n",
              "<style scoped>\n",
              "    .dataframe tbody tr th:only-of-type {\n",
              "        vertical-align: middle;\n",
              "    }\n",
              "\n",
              "    .dataframe tbody tr th {\n",
              "        vertical-align: top;\n",
              "    }\n",
              "\n",
              "    .dataframe thead th {\n",
              "        text-align: right;\n",
              "    }\n",
              "</style>\n",
              "<table border=\"1\" class=\"dataframe\">\n",
              "  <thead>\n",
              "    <tr style=\"text-align: right;\">\n",
              "      <th></th>\n",
              "      <th>id</th>\n",
              "      <th>city_name</th>\n",
              "      <th>signup_os</th>\n",
              "      <th>signup_channel</th>\n",
              "      <th>signup_date</th>\n",
              "      <th>bgc_date</th>\n",
              "      <th>vehicle_added_date</th>\n",
              "      <th>vehicle_make</th>\n",
              "      <th>vehicle_model</th>\n",
              "      <th>vehicle_year</th>\n",
              "      <th>first_completed_date</th>\n",
              "    </tr>\n",
              "  </thead>\n",
              "  <tbody>\n",
              "    <tr>\n",
              "      <th>0</th>\n",
              "      <td>1</td>\n",
              "      <td>Strark</td>\n",
              "      <td>ios web</td>\n",
              "      <td>Paid</td>\n",
              "      <td>1/2/16</td>\n",
              "      <td>NaN</td>\n",
              "      <td>NaN</td>\n",
              "      <td>NaN</td>\n",
              "      <td>NaN</td>\n",
              "      <td>NaN</td>\n",
              "      <td>NaN</td>\n",
              "    </tr>\n",
              "    <tr>\n",
              "      <th>1</th>\n",
              "      <td>2</td>\n",
              "      <td>Strark</td>\n",
              "      <td>windows</td>\n",
              "      <td>Paid</td>\n",
              "      <td>1/21/16</td>\n",
              "      <td>NaN</td>\n",
              "      <td>NaN</td>\n",
              "      <td>NaN</td>\n",
              "      <td>NaN</td>\n",
              "      <td>NaN</td>\n",
              "      <td>NaN</td>\n",
              "    </tr>\n",
              "    <tr>\n",
              "      <th>2</th>\n",
              "      <td>3</td>\n",
              "      <td>Wrouver</td>\n",
              "      <td>windows</td>\n",
              "      <td>Organic</td>\n",
              "      <td>1/11/16</td>\n",
              "      <td>1/11/16</td>\n",
              "      <td>NaN</td>\n",
              "      <td>NaN</td>\n",
              "      <td>NaN</td>\n",
              "      <td>NaN</td>\n",
              "      <td>NaN</td>\n",
              "    </tr>\n",
              "    <tr>\n",
              "      <th>3</th>\n",
              "      <td>4</td>\n",
              "      <td>Berton</td>\n",
              "      <td>android web</td>\n",
              "      <td>Referral</td>\n",
              "      <td>1/29/16</td>\n",
              "      <td>2/3/16</td>\n",
              "      <td>2/3/16</td>\n",
              "      <td>Toyota</td>\n",
              "      <td>Corolla</td>\n",
              "      <td>2016.0</td>\n",
              "      <td>2/3/16</td>\n",
              "    </tr>\n",
              "    <tr>\n",
              "      <th>4</th>\n",
              "      <td>5</td>\n",
              "      <td>Strark</td>\n",
              "      <td>android web</td>\n",
              "      <td>Referral</td>\n",
              "      <td>1/10/16</td>\n",
              "      <td>1/25/16</td>\n",
              "      <td>1/26/16</td>\n",
              "      <td>Hyundai</td>\n",
              "      <td>Sonata</td>\n",
              "      <td>2016.0</td>\n",
              "      <td>NaN</td>\n",
              "    </tr>\n",
              "  </tbody>\n",
              "</table>\n",
              "</div>\n",
              "    <div class=\"colab-df-buttons\">\n",
              "\n",
              "  <div class=\"colab-df-container\">\n",
              "    <button class=\"colab-df-convert\" onclick=\"convertToInteractive('df-00c16b67-1c6b-4acb-a30e-cde48c1f4902')\"\n",
              "            title=\"Convert this dataframe to an interactive table.\"\n",
              "            style=\"display:none;\">\n",
              "\n",
              "  <svg xmlns=\"http://www.w3.org/2000/svg\" height=\"24px\" viewBox=\"0 -960 960 960\">\n",
              "    <path d=\"M120-120v-720h720v720H120Zm60-500h600v-160H180v160Zm220 220h160v-160H400v160Zm0 220h160v-160H400v160ZM180-400h160v-160H180v160Zm440 0h160v-160H620v160ZM180-180h160v-160H180v160Zm440 0h160v-160H620v160Z\"/>\n",
              "  </svg>\n",
              "    </button>\n",
              "\n",
              "  <style>\n",
              "    .colab-df-container {\n",
              "      display:flex;\n",
              "      gap: 12px;\n",
              "    }\n",
              "\n",
              "    .colab-df-convert {\n",
              "      background-color: #E8F0FE;\n",
              "      border: none;\n",
              "      border-radius: 50%;\n",
              "      cursor: pointer;\n",
              "      display: none;\n",
              "      fill: #1967D2;\n",
              "      height: 32px;\n",
              "      padding: 0 0 0 0;\n",
              "      width: 32px;\n",
              "    }\n",
              "\n",
              "    .colab-df-convert:hover {\n",
              "      background-color: #E2EBFA;\n",
              "      box-shadow: 0px 1px 2px rgba(60, 64, 67, 0.3), 0px 1px 3px 1px rgba(60, 64, 67, 0.15);\n",
              "      fill: #174EA6;\n",
              "    }\n",
              "\n",
              "    .colab-df-buttons div {\n",
              "      margin-bottom: 4px;\n",
              "    }\n",
              "\n",
              "    [theme=dark] .colab-df-convert {\n",
              "      background-color: #3B4455;\n",
              "      fill: #D2E3FC;\n",
              "    }\n",
              "\n",
              "    [theme=dark] .colab-df-convert:hover {\n",
              "      background-color: #434B5C;\n",
              "      box-shadow: 0px 1px 3px 1px rgba(0, 0, 0, 0.15);\n",
              "      filter: drop-shadow(0px 1px 2px rgba(0, 0, 0, 0.3));\n",
              "      fill: #FFFFFF;\n",
              "    }\n",
              "  </style>\n",
              "\n",
              "    <script>\n",
              "      const buttonEl =\n",
              "        document.querySelector('#df-00c16b67-1c6b-4acb-a30e-cde48c1f4902 button.colab-df-convert');\n",
              "      buttonEl.style.display =\n",
              "        google.colab.kernel.accessAllowed ? 'block' : 'none';\n",
              "\n",
              "      async function convertToInteractive(key) {\n",
              "        const element = document.querySelector('#df-00c16b67-1c6b-4acb-a30e-cde48c1f4902');\n",
              "        const dataTable =\n",
              "          await google.colab.kernel.invokeFunction('convertToInteractive',\n",
              "                                                    [key], {});\n",
              "        if (!dataTable) return;\n",
              "\n",
              "        const docLinkHtml = 'Like what you see? Visit the ' +\n",
              "          '<a target=\"_blank\" href=https://colab.research.google.com/notebooks/data_table.ipynb>data table notebook</a>'\n",
              "          + ' to learn more about interactive tables.';\n",
              "        element.innerHTML = '';\n",
              "        dataTable['output_type'] = 'display_data';\n",
              "        await google.colab.output.renderOutput(dataTable, element);\n",
              "        const docLink = document.createElement('div');\n",
              "        docLink.innerHTML = docLinkHtml;\n",
              "        element.appendChild(docLink);\n",
              "      }\n",
              "    </script>\n",
              "  </div>\n",
              "\n",
              "\n",
              "<div id=\"df-01fe082e-8f2f-4940-b06e-3410df26e1a3\">\n",
              "  <button class=\"colab-df-quickchart\" onclick=\"quickchart('df-01fe082e-8f2f-4940-b06e-3410df26e1a3')\"\n",
              "            title=\"Suggest charts\"\n",
              "            style=\"display:none;\">\n",
              "\n",
              "<svg xmlns=\"http://www.w3.org/2000/svg\" height=\"24px\"viewBox=\"0 0 24 24\"\n",
              "     width=\"24px\">\n",
              "    <g>\n",
              "        <path d=\"M19 3H5c-1.1 0-2 .9-2 2v14c0 1.1.9 2 2 2h14c1.1 0 2-.9 2-2V5c0-1.1-.9-2-2-2zM9 17H7v-7h2v7zm4 0h-2V7h2v10zm4 0h-2v-4h2v4z\"/>\n",
              "    </g>\n",
              "</svg>\n",
              "  </button>\n",
              "\n",
              "<style>\n",
              "  .colab-df-quickchart {\n",
              "      --bg-color: #E8F0FE;\n",
              "      --fill-color: #1967D2;\n",
              "      --hover-bg-color: #E2EBFA;\n",
              "      --hover-fill-color: #174EA6;\n",
              "      --disabled-fill-color: #AAA;\n",
              "      --disabled-bg-color: #DDD;\n",
              "  }\n",
              "\n",
              "  [theme=dark] .colab-df-quickchart {\n",
              "      --bg-color: #3B4455;\n",
              "      --fill-color: #D2E3FC;\n",
              "      --hover-bg-color: #434B5C;\n",
              "      --hover-fill-color: #FFFFFF;\n",
              "      --disabled-bg-color: #3B4455;\n",
              "      --disabled-fill-color: #666;\n",
              "  }\n",
              "\n",
              "  .colab-df-quickchart {\n",
              "    background-color: var(--bg-color);\n",
              "    border: none;\n",
              "    border-radius: 50%;\n",
              "    cursor: pointer;\n",
              "    display: none;\n",
              "    fill: var(--fill-color);\n",
              "    height: 32px;\n",
              "    padding: 0;\n",
              "    width: 32px;\n",
              "  }\n",
              "\n",
              "  .colab-df-quickchart:hover {\n",
              "    background-color: var(--hover-bg-color);\n",
              "    box-shadow: 0 1px 2px rgba(60, 64, 67, 0.3), 0 1px 3px 1px rgba(60, 64, 67, 0.15);\n",
              "    fill: var(--button-hover-fill-color);\n",
              "  }\n",
              "\n",
              "  .colab-df-quickchart-complete:disabled,\n",
              "  .colab-df-quickchart-complete:disabled:hover {\n",
              "    background-color: var(--disabled-bg-color);\n",
              "    fill: var(--disabled-fill-color);\n",
              "    box-shadow: none;\n",
              "  }\n",
              "\n",
              "  .colab-df-spinner {\n",
              "    border: 2px solid var(--fill-color);\n",
              "    border-color: transparent;\n",
              "    border-bottom-color: var(--fill-color);\n",
              "    animation:\n",
              "      spin 1s steps(1) infinite;\n",
              "  }\n",
              "\n",
              "  @keyframes spin {\n",
              "    0% {\n",
              "      border-color: transparent;\n",
              "      border-bottom-color: var(--fill-color);\n",
              "      border-left-color: var(--fill-color);\n",
              "    }\n",
              "    20% {\n",
              "      border-color: transparent;\n",
              "      border-left-color: var(--fill-color);\n",
              "      border-top-color: var(--fill-color);\n",
              "    }\n",
              "    30% {\n",
              "      border-color: transparent;\n",
              "      border-left-color: var(--fill-color);\n",
              "      border-top-color: var(--fill-color);\n",
              "      border-right-color: var(--fill-color);\n",
              "    }\n",
              "    40% {\n",
              "      border-color: transparent;\n",
              "      border-right-color: var(--fill-color);\n",
              "      border-top-color: var(--fill-color);\n",
              "    }\n",
              "    60% {\n",
              "      border-color: transparent;\n",
              "      border-right-color: var(--fill-color);\n",
              "    }\n",
              "    80% {\n",
              "      border-color: transparent;\n",
              "      border-right-color: var(--fill-color);\n",
              "      border-bottom-color: var(--fill-color);\n",
              "    }\n",
              "    90% {\n",
              "      border-color: transparent;\n",
              "      border-bottom-color: var(--fill-color);\n",
              "    }\n",
              "  }\n",
              "</style>\n",
              "\n",
              "  <script>\n",
              "    async function quickchart(key) {\n",
              "      const quickchartButtonEl =\n",
              "        document.querySelector('#' + key + ' button');\n",
              "      quickchartButtonEl.disabled = true;  // To prevent multiple clicks.\n",
              "      quickchartButtonEl.classList.add('colab-df-spinner');\n",
              "      try {\n",
              "        const charts = await google.colab.kernel.invokeFunction(\n",
              "            'suggestCharts', [key], {});\n",
              "      } catch (error) {\n",
              "        console.error('Error during call to suggestCharts:', error);\n",
              "      }\n",
              "      quickchartButtonEl.classList.remove('colab-df-spinner');\n",
              "      quickchartButtonEl.classList.add('colab-df-quickchart-complete');\n",
              "    }\n",
              "    (() => {\n",
              "      let quickchartButtonEl =\n",
              "        document.querySelector('#df-01fe082e-8f2f-4940-b06e-3410df26e1a3 button');\n",
              "      quickchartButtonEl.style.display =\n",
              "        google.colab.kernel.accessAllowed ? 'block' : 'none';\n",
              "    })();\n",
              "  </script>\n",
              "</div>\n",
              "\n",
              "    </div>\n",
              "  </div>\n"
            ],
            "application/vnd.google.colaboratory.intrinsic+json": {
              "type": "dataframe",
              "variable_name": "df",
              "summary": "{\n  \"name\": \"df\",\n  \"rows\": 54681,\n  \"fields\": [\n    {\n      \"column\": \"id\",\n      \"properties\": {\n        \"dtype\": \"number\",\n        \"std\": 15785,\n        \"min\": 1,\n        \"max\": 54681,\n        \"num_unique_values\": 54681,\n        \"samples\": [\n          52100,\n          36411,\n          36723\n        ],\n        \"semantic_type\": \"\",\n        \"description\": \"\"\n      }\n    },\n    {\n      \"column\": \"city_name\",\n      \"properties\": {\n        \"dtype\": \"category\",\n        \"num_unique_values\": 3,\n        \"samples\": [\n          \"Strark\",\n          \"Wrouver\",\n          \"Berton\"\n        ],\n        \"semantic_type\": \"\",\n        \"description\": \"\"\n      }\n    },\n    {\n      \"column\": \"signup_os\",\n      \"properties\": {\n        \"dtype\": \"category\",\n        \"num_unique_values\": 5,\n        \"samples\": [\n          \"windows\",\n          \"other\",\n          \"android web\"\n        ],\n        \"semantic_type\": \"\",\n        \"description\": \"\"\n      }\n    },\n    {\n      \"column\": \"signup_channel\",\n      \"properties\": {\n        \"dtype\": \"category\",\n        \"num_unique_values\": 3,\n        \"samples\": [\n          \"Paid\",\n          \"Organic\",\n          \"Referral\"\n        ],\n        \"semantic_type\": \"\",\n        \"description\": \"\"\n      }\n    },\n    {\n      \"column\": \"signup_date\",\n      \"properties\": {\n        \"dtype\": \"object\",\n        \"num_unique_values\": 30,\n        \"samples\": [\n          \"1/19/16\",\n          \"1/16/16\",\n          \"1/1/16\"\n        ],\n        \"semantic_type\": \"\",\n        \"description\": \"\"\n      }\n    },\n    {\n      \"column\": \"bgc_date\",\n      \"properties\": {\n        \"dtype\": \"date\",\n        \"min\": \"2016-01-01 00:00:00\",\n        \"max\": \"2016-03-25 00:00:00\",\n        \"num_unique_values\": 74,\n        \"samples\": [\n          \"1/16/16\",\n          \"2/29/16\",\n          \"1/21/16\"\n        ],\n        \"semantic_type\": \"\",\n        \"description\": \"\"\n      }\n    },\n    {\n      \"column\": \"vehicle_added_date\",\n      \"properties\": {\n        \"dtype\": \"date\",\n        \"min\": \"2016-01-01 00:00:00\",\n        \"max\": \"2016-03-26 00:00:00\",\n        \"num_unique_values\": 78,\n        \"samples\": [\n          \"2/2/16\",\n          \"2/3/16\",\n          \"1/9/16\"\n        ],\n        \"semantic_type\": \"\",\n        \"description\": \"\"\n      }\n    },\n    {\n      \"column\": \"vehicle_make\",\n      \"properties\": {\n        \"dtype\": \"category\",\n        \"num_unique_values\": 46,\n        \"samples\": [\n          \"Bike\",\n          \"Saturn\",\n          \"Volvo\"\n        ],\n        \"semantic_type\": \"\",\n        \"description\": \"\"\n      }\n    },\n    {\n      \"column\": \"vehicle_model\",\n      \"properties\": {\n        \"dtype\": \"category\",\n        \"num_unique_values\": 368,\n        \"samples\": [\n          \"Taurus\",\n          \"Journey\",\n          \"CT\"\n        ],\n        \"semantic_type\": \"\",\n        \"description\": \"\"\n      }\n    },\n    {\n      \"column\": \"vehicle_year\",\n      \"properties\": {\n        \"dtype\": \"number\",\n        \"std\": 35.219183780322375,\n        \"min\": 0.0,\n        \"max\": 2017.0,\n        \"num_unique_values\": 24,\n        \"samples\": [\n          2007.0,\n          2017.0,\n          2016.0\n        ],\n        \"semantic_type\": \"\",\n        \"description\": \"\"\n      }\n    },\n    {\n      \"column\": \"first_completed_date\",\n      \"properties\": {\n        \"dtype\": \"date\",\n        \"min\": \"2016-01-04 00:00:00\",\n        \"max\": \"2016-02-29 00:00:00\",\n        \"num_unique_values\": 57,\n        \"samples\": [\n          \"2/3/16\",\n          \"1/22/16\",\n          \"1/20/16\"\n        ],\n        \"semantic_type\": \"\",\n        \"description\": \"\"\n      }\n    }\n  ]\n}"
            }
          },
          "metadata": {},
          "execution_count": 6
        }
      ]
    },
    {
      "cell_type": "code",
      "source": [
        "df.isna().any()"
      ],
      "metadata": {
        "id": "nCgB4_kPPB73",
        "outputId": "044e39ec-646c-41f1-b587-b441230b0759",
        "colab": {
          "base_uri": "https://localhost:8080/",
          "height": 429
        }
      },
      "id": "nCgB4_kPPB73",
      "execution_count": 10,
      "outputs": [
        {
          "output_type": "execute_result",
          "data": {
            "text/plain": [
              "id                      False\n",
              "city_name               False\n",
              "signup_os                True\n",
              "signup_channel          False\n",
              "signup_date             False\n",
              "bgc_date                 True\n",
              "vehicle_added_date       True\n",
              "vehicle_make             True\n",
              "vehicle_model            True\n",
              "vehicle_year             True\n",
              "first_completed_date     True\n",
              "dtype: bool"
            ],
            "text/html": [
              "<div>\n",
              "<style scoped>\n",
              "    .dataframe tbody tr th:only-of-type {\n",
              "        vertical-align: middle;\n",
              "    }\n",
              "\n",
              "    .dataframe tbody tr th {\n",
              "        vertical-align: top;\n",
              "    }\n",
              "\n",
              "    .dataframe thead th {\n",
              "        text-align: right;\n",
              "    }\n",
              "</style>\n",
              "<table border=\"1\" class=\"dataframe\">\n",
              "  <thead>\n",
              "    <tr style=\"text-align: right;\">\n",
              "      <th></th>\n",
              "      <th>0</th>\n",
              "    </tr>\n",
              "  </thead>\n",
              "  <tbody>\n",
              "    <tr>\n",
              "      <th>id</th>\n",
              "      <td>False</td>\n",
              "    </tr>\n",
              "    <tr>\n",
              "      <th>city_name</th>\n",
              "      <td>False</td>\n",
              "    </tr>\n",
              "    <tr>\n",
              "      <th>signup_os</th>\n",
              "      <td>True</td>\n",
              "    </tr>\n",
              "    <tr>\n",
              "      <th>signup_channel</th>\n",
              "      <td>False</td>\n",
              "    </tr>\n",
              "    <tr>\n",
              "      <th>signup_date</th>\n",
              "      <td>False</td>\n",
              "    </tr>\n",
              "    <tr>\n",
              "      <th>bgc_date</th>\n",
              "      <td>True</td>\n",
              "    </tr>\n",
              "    <tr>\n",
              "      <th>vehicle_added_date</th>\n",
              "      <td>True</td>\n",
              "    </tr>\n",
              "    <tr>\n",
              "      <th>vehicle_make</th>\n",
              "      <td>True</td>\n",
              "    </tr>\n",
              "    <tr>\n",
              "      <th>vehicle_model</th>\n",
              "      <td>True</td>\n",
              "    </tr>\n",
              "    <tr>\n",
              "      <th>vehicle_year</th>\n",
              "      <td>True</td>\n",
              "    </tr>\n",
              "    <tr>\n",
              "      <th>first_completed_date</th>\n",
              "      <td>True</td>\n",
              "    </tr>\n",
              "  </tbody>\n",
              "</table>\n",
              "</div><br><label><b>dtype:</b> bool</label>"
            ]
          },
          "metadata": {},
          "execution_count": 10
        }
      ]
    },
    {
      "cell_type": "code",
      "source": [
        "df.notna().sum() #54681 signups, 32896 bgc, 13134 vehicle added, 6137 driven"
      ],
      "metadata": {
        "id": "bBPTYrjGaziW",
        "outputId": "f4a202f1-96c8-431f-e864-621c9af678e5",
        "colab": {
          "base_uri": "https://localhost:8080/",
          "height": 429
        }
      },
      "id": "bBPTYrjGaziW",
      "execution_count": 40,
      "outputs": [
        {
          "output_type": "execute_result",
          "data": {
            "text/plain": [
              "id                      54681\n",
              "city_name               54681\n",
              "signup_os               47824\n",
              "signup_channel          54681\n",
              "signup_date             54681\n",
              "bgc_date                32896\n",
              "vehicle_added_date      13134\n",
              "vehicle_make            13223\n",
              "vehicle_model           13223\n",
              "vehicle_year            13223\n",
              "first_completed_date     6137\n",
              "dtype: int64"
            ],
            "text/html": [
              "<div>\n",
              "<style scoped>\n",
              "    .dataframe tbody tr th:only-of-type {\n",
              "        vertical-align: middle;\n",
              "    }\n",
              "\n",
              "    .dataframe tbody tr th {\n",
              "        vertical-align: top;\n",
              "    }\n",
              "\n",
              "    .dataframe thead th {\n",
              "        text-align: right;\n",
              "    }\n",
              "</style>\n",
              "<table border=\"1\" class=\"dataframe\">\n",
              "  <thead>\n",
              "    <tr style=\"text-align: right;\">\n",
              "      <th></th>\n",
              "      <th>0</th>\n",
              "    </tr>\n",
              "  </thead>\n",
              "  <tbody>\n",
              "    <tr>\n",
              "      <th>id</th>\n",
              "      <td>54681</td>\n",
              "    </tr>\n",
              "    <tr>\n",
              "      <th>city_name</th>\n",
              "      <td>54681</td>\n",
              "    </tr>\n",
              "    <tr>\n",
              "      <th>signup_os</th>\n",
              "      <td>47824</td>\n",
              "    </tr>\n",
              "    <tr>\n",
              "      <th>signup_channel</th>\n",
              "      <td>54681</td>\n",
              "    </tr>\n",
              "    <tr>\n",
              "      <th>signup_date</th>\n",
              "      <td>54681</td>\n",
              "    </tr>\n",
              "    <tr>\n",
              "      <th>bgc_date</th>\n",
              "      <td>32896</td>\n",
              "    </tr>\n",
              "    <tr>\n",
              "      <th>vehicle_added_date</th>\n",
              "      <td>13134</td>\n",
              "    </tr>\n",
              "    <tr>\n",
              "      <th>vehicle_make</th>\n",
              "      <td>13223</td>\n",
              "    </tr>\n",
              "    <tr>\n",
              "      <th>vehicle_model</th>\n",
              "      <td>13223</td>\n",
              "    </tr>\n",
              "    <tr>\n",
              "      <th>vehicle_year</th>\n",
              "      <td>13223</td>\n",
              "    </tr>\n",
              "    <tr>\n",
              "      <th>first_completed_date</th>\n",
              "      <td>6137</td>\n",
              "    </tr>\n",
              "  </tbody>\n",
              "</table>\n",
              "</div><br><label><b>dtype:</b> int64</label>"
            ]
          },
          "metadata": {},
          "execution_count": 40
        }
      ]
    },
    {
      "cell_type": "code",
      "source": [
        "df.city_name.unique(), df.signup_channel.unique(), min(df.signup_date), max(df.signup_date)"
      ],
      "metadata": {
        "id": "qJKZOEerQH0K",
        "outputId": "4646d8ab-b965-4e86-9a43-ccd79bf9fadf",
        "colab": {
          "base_uri": "https://localhost:8080/"
        }
      },
      "id": "qJKZOEerQH0K",
      "execution_count": 16,
      "outputs": [
        {
          "output_type": "execute_result",
          "data": {
            "text/plain": [
              "(array(['Strark', 'Wrouver', 'Berton'], dtype=object),\n",
              " array(['Paid', 'Organic', 'Referral'], dtype=object),\n",
              " '1/1/16',\n",
              " '1/9/16')"
            ]
          },
          "metadata": {},
          "execution_count": 16
        }
      ]
    },
    {
      "cell_type": "code",
      "source": [
        "df[~df.first_completed_date.isna()].first_completed_date.min(), df[~df.first_completed_date.isna()].first_completed_date.max()"
      ],
      "metadata": {
        "id": "4Py_ekLjQtPd",
        "outputId": "f4f33fad-6791-49e6-dce5-2bec8ae168bb",
        "colab": {
          "base_uri": "https://localhost:8080/"
        }
      },
      "id": "4Py_ekLjQtPd",
      "execution_count": 17,
      "outputs": [
        {
          "output_type": "execute_result",
          "data": {
            "text/plain": [
              "('1/10/16', '2/9/16')"
            ]
          },
          "metadata": {},
          "execution_count": 17
        }
      ]
    },
    {
      "cell_type": "code",
      "source": [
        "df.vehicle_year.min(), df.vehicle_year.max(), df[df.vehicle_year > 0].vehicle_year.min()"
      ],
      "metadata": {
        "id": "gGPVd_t8Q4Pg",
        "outputId": "d136e40a-9e11-485e-e544-c28d5c10d477",
        "colab": {
          "base_uri": "https://localhost:8080/"
        }
      },
      "id": "gGPVd_t8Q4Pg",
      "execution_count": 20,
      "outputs": [
        {
          "output_type": "execute_result",
          "data": {
            "text/plain": [
              "(0.0, 2017.0, 1995.0)"
            ]
          },
          "metadata": {},
          "execution_count": 20
        }
      ]
    },
    {
      "cell_type": "code",
      "source": [
        "plt.figure(figsize=(12, 4))\n",
        "df.groupby('vehicle_make').size().sort_values(ascending=False).plot(kind='bar', color=sns.palettes.mpl_palette('Dark2'))\n",
        "plt.gca().spines[['top', 'right',]].set_visible(False)"
      ],
      "metadata": {
        "id": "ATn_Lif1RTOs",
        "outputId": "25030d79-f116-4cbf-a670-513238a6afed",
        "colab": {
          "base_uri": "https://localhost:8080/",
          "height": 479
        }
      },
      "id": "ATn_Lif1RTOs",
      "execution_count": 39,
      "outputs": [
        {
          "output_type": "display_data",
          "data": {
            "text/plain": [
              "<Figure size 1200x400 with 1 Axes>"
            ],
            "image/png": "[encoded data removed]"
          },
          "metadata": {}
        }
      ]
    },
    {
      "cell_type": "code",
      "source": [
        "df.groupby('city_name').size().sort_values(ascending=False).plot(kind='bar', color=sns.palettes.mpl_palette('Dark2'))\n",
        "plt.gca().spines[['top', 'right',]].set_visible(False)"
      ],
      "metadata": {
        "id": "IynJx_MKUn-3",
        "outputId": "aaaf88db-b3a7-4909-b18f-db0173d2967f",
        "colab": {
          "base_uri": "https://localhost:8080/",
          "height": 494
        }
      },
      "id": "IynJx_MKUn-3",
      "execution_count": 37,
      "outputs": [
        {
          "output_type": "display_data",
          "data": {
            "text/plain": [
              "<Figure size 640x480 with 1 Axes>"
            ],
            "image/png": "[encoded data removed]"
          },
          "metadata": {}
        }
      ]
    },
    {
      "source": [
        "# @title city_name\n",
        "\n",
        "from matplotlib import pyplot as plt\n",
        "import seaborn as sns\n",
        "df.groupby('city_name').size().plot(kind='bar', color=sns.palettes.mpl_palette('Dark2'))\n",
        "plt.gca().spines[['top', 'right',]].set_visible(False)"
      ],
      "cell_type": "code",
      "execution_count": 29,
      "outputs": [
        {
          "output_type": "display_data",
          "data": {
            "text/plain": [
              "<Figure size 640x480 with 1 Axes>"
            ],
            "image/png": "[encoded data removed]"
          },
          "metadata": {}
        }
      ],
      "metadata": {
        "colab": {
          "base_uri": "https://localhost:8080/",
          "height": 494
        },
        "id": "ON1ynP7sOmmP",
        "outputId": "69a680ca-a5ea-48c8-ed6d-227fd8aee800"
      },
      "id": "ON1ynP7sOmmP"
    }
  ],
  "metadata": {
    "kernelspec": {
      "display_name": "Python 3",
      "language": "python",
      "name": "python3"
    },
    "language_info": {
      "codemirror_mode": {
        "name": "ipython",
        "version": 3
      },
      "file_extension": ".py",
      "mimetype": "text/x-python",
      "name": "python",
      "nbconvert_exporter": "python",
      "pygments_lexer": "ipython3",
      "version": "3.8.8"
    },
    "colab": {
      "provenance": []
    }
  },
  "nbformat": 4,
  "nbformat_minor": 5
}